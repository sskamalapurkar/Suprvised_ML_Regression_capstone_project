{
  "nbformat": 4,
  "nbformat_minor": 0,
  "metadata": {
    "colab": {
      "provenance": [],
      "toc_visible": true,
      "authorship_tag": "ABX9TyOyORkGDwHSpT/J2aHIQcmJ",
      "include_colab_link": true
    },
    "kernelspec": {
      "name": "python3",
      "display_name": "Python 3"
    },
    "language_info": {
      "name": "python"
    }
  },
  "cells": [
    {
      "cell_type": "markdown",
      "metadata": {
        "id": "view-in-github",
        "colab_type": "text"
      },
      "source": [
        "<a href=\"https://colab.research.google.com/github/sskamalapurkar/Suprvised_ML_Regression_capstone_project/blob/main/Ted_Talk_Views_Prediction_Sayali_Kamalapurkar.ipynb\" target=\"_parent\"><img src=\"https://colab.research.google.com/assets/colab-badge.svg\" alt=\"Open In Colab\"/></a>"
      ]
    },
    {
      "cell_type": "markdown",
      "source": [
        "# **Problem Statement**\n",
        "\n",
        "---\n",
        "\n"
      ],
      "metadata": {
        "id": "cvQZYVbajQUj"
      }
    },
    {
      "cell_type": "markdown",
      "source": [
        "\n",
        "\n",
        "## <b>TED is devoted to spreading powerful ideas on just about any topic. These datasets contain over 4,000 TED talks including transcripts in many languages.\n",
        "\n",
        "##<b>Founded in 1984 by Richard Salman as a nonprofit organization that aimed at bringing experts from the fields of Technology, Entertainment, and Design together, TED Conferences have gone on to become the Mecca of ideas from virtually all walks of life. As of 2015, TED and its sister TEDx chapters have published more than 2000 talks for free consumption by the masses and its speaker list boasts of the likes of Al Gore, Jimmy Wales, Shahrukh Khan, and Bill Gates.\n",
        "\n",
        "## <b>The main objective is to build a predictive model, which could help in predicting the views of the videos uploaded on the TEDx website.\n",
        "\n",
        "\n",
        "\n"
      ],
      "metadata": {
        "id": "EghVLFaWuUyu"
      }
    },
    {
      "cell_type": "markdown",
      "source": [
        "# **Introduction**\n",
        "\n",
        "---\n",
        "\n"
      ],
      "metadata": {
        "id": "jh8pLRLbYNbe"
      }
    },
    {
      "cell_type": "code",
      "source": [],
      "metadata": {
        "id": "s12qD5sd-s_i"
      },
      "execution_count": null,
      "outputs": []
    },
    {
      "cell_type": "code",
      "execution_count": null,
      "metadata": {
        "id": "TCIvOe7-spUG"
      },
      "outputs": [],
      "source": []
    }
  ]
}